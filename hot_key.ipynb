{
 "cells": [
  {
   "cell_type": "markdown",
   "id": "9219db3366f6d205",
   "metadata": {},
   "source": [
    "# PyCharm Jupyter NoteBook Keymap for Windows and Linux users"
   ]
  },
  {
   "cell_type": "markdown",
   "id": "97f25f6b2d4907ba",
   "metadata": {},
   "source": [
    "# Editing "
   ]
  },
  {
   "cell_type": "markdown",
   "id": "98e1e6cefe4d3753",
   "metadata": {},
   "source": [
    "## Ctrl + Space \n",
    "##### Basic code completion (the name of any class, method of variable, command for terminal)"
   ]
  },
  {
   "cell_type": "code",
   "execution_count": null,
   "id": "666382cbace47cb7",
   "metadata": {},
   "outputs": [],
   "source": [
    "%conda --version\n",
    "%pip --version\n",
    "%pwd\n",
    "%ls -la"
   ]
  },
  {
   "cell_type": "markdown",
   "id": "cdf8855d12ede2ea",
   "metadata": {},
   "source": [
    "## Ctrl + Alt + Space\n",
    "##### Class name completion (the name of any project class independently of current imports)"
   ]
  },
  {
   "cell_type": "code",
   "execution_count": null,
   "id": "c831b7af9f9a145e",
   "metadata": {},
   "outputs": [],
   "source": [
    "%conda"
   ]
  },
  {
   "cell_type": "markdown",
   "id": "ed9241f8f22c8020",
   "metadata": {},
   "source": [
    "## Ctrl + Shift + Enter\n",
    "##### Complete statement"
   ]
  },
  {
   "cell_type": "code",
   "execution_count": 5,
   "id": "3d91571d118056f3",
   "metadata": {
    "ExecuteTime": {
     "end_time": "2024-09-08T08:16:59.867356Z",
     "start_time": "2024-09-08T08:16:59.862552Z"
    }
   },
   "outputs": [
    {
     "name": "stdout",
     "output_type": "stream",
     "text": [
      "Ctrl + Shift + Enter\n"
     ]
    }
   ],
   "source": [
    "print(\"Ctrl + Shift + Enter\")"
   ]
  },
  {
   "cell_type": "markdown",
   "id": "4536022b1f54f3f9",
   "metadata": {},
   "source": [
    "## Ctrl + P\n",
    "##### Parameter info (within method call arguments)"
   ]
  },
  {
   "cell_type": "code",
   "execution_count": null,
   "id": "ff46c334bc81a85a",
   "metadata": {},
   "outputs": [],
   "source": [
    "print()\n",
    "abs()"
   ]
  },
  {
   "cell_type": "markdown",
   "id": "8cde12e88a810d47",
   "metadata": {},
   "source": [
    "## Ctrl + Q\n",
    "##### Quick documentation lookup"
   ]
  },
  {
   "cell_type": "code",
   "execution_count": null,
   "id": "627cc593567b38f",
   "metadata": {},
   "outputs": [],
   "source": [
    "print() \n",
    "\n",
    "# @overload def print(*values: object,\n",
    "#           sep: str | None = \" \",\n",
    "#           end: str | None = \"\\n\",\n",
    "#           file: SupportsWrite[str] | None = None,\n",
    "#           flush: Literal[False] = False) -> None\n",
    "# Prints the values to a stream, or to sys. stdout by default.\n",
    "#  \n",
    "# sep\n",
    "# string inserted between values, default a space.\n",
    "# end\n",
    "# string appended after the last value, default a newline.\n",
    "# file\n",
    "# a file-like object (stream); defaults to the current sys. stdout.\n",
    "# flush\n",
    "# whether to forcibly flush the stream.\n",
    "# `print(*values, sep=\" \", end=\"\\n\", file=None, flush=False)` on docs. python. org"
   ]
  },
  {
   "cell_type": "markdown",
   "id": "6bc9568526820123",
   "metadata": {},
   "source": [
    "## Shift + F1\n",
    "###### External Doc"
   ]
  },
  {
   "cell_type": "code",
   "execution_count": null,
   "id": "41f034ccdb59fe13",
   "metadata": {},
   "outputs": [],
   "source": [
    "input()"
   ]
  },
  {
   "cell_type": "markdown",
   "id": "f349965585a1dba2",
   "metadata": {},
   "source": [
    "## Ctrl + mouse over code\n",
    "###### Brief info"
   ]
  },
  {
   "cell_type": "code",
   "execution_count": null,
   "id": "523cd864feef58d0",
   "metadata": {},
   "outputs": [],
   "source": [
    "x = 4\n",
    "x = x + 2\n",
    "print(x)"
   ]
  },
  {
   "cell_type": "markdown",
   "id": "34f5191f3995a7c7",
   "metadata": {},
   "source": [
    "## Ctrl + F1\n",
    "###### Show descriptions of <b>error</b> or warning at caret"
   ]
  },
  {
   "cell_type": "code",
   "execution_count": null,
   "id": "eab42f6f4c65835d",
   "metadata": {},
   "outputs": [],
   "source": [
    "3x = 7  "
   ]
  },
  {
   "cell_type": "markdown",
   "id": "7bca5162f4cb6cfe",
   "metadata": {},
   "source": [
    "## Alt + Insert\n",
    "###### Generate code..."
   ]
  },
  {
   "cell_type": "code",
   "execution_count": null,
   "id": "aa775226fc1fed72",
   "metadata": {},
   "outputs": [],
   "source": [
    "y = 5"
   ]
  },
  {
   "cell_type": "markdown",
   "id": "cdcba18dddfa9c2f",
   "metadata": {},
   "source": [
    "## Ctrl + O\n",
    "###### Override methods - OOP"
   ]
  },
  {
   "cell_type": "code",
   "execution_count": null,
   "id": "ffc05631b0fceb3d",
   "metadata": {},
   "outputs": [],
   "source": [
    "class A:\n",
    "    \n",
    "    def __init__(self):\n",
    "        x = 2\n",
    "        self.x = x\n",
    "      \n",
    "    def add(self):\n",
    "        return self.x + 2\n",
    "\n",
    "    def __format__(self, __format_spec):\n",
    "        return super().__format__(__format_spec)\n",
    "    \n"
   ]
  },
  {
   "cell_type": "markdown",
   "id": "7df6bb68337d0f0e",
   "metadata": {},
   "source": [
    "## Ctrl + Alt + T\n",
    "###### Surround with..."
   ]
  },
  {
   "cell_type": "markdown",
   "id": "9d84c3c12fe21208",
   "metadata": {},
   "source": [
    "## Ctrl + /\n",
    "###### Comment/uncomment with line comment"
   ]
  },
  {
   "cell_type": "code",
   "execution_count": null,
   "id": "d40c7717895b2ae4",
   "metadata": {},
   "outputs": [],
   "source": [
    "# x = 5\n",
    "# print(\"x: \", x)"
   ]
  },
  {
   "cell_type": "markdown",
   "id": "abd21796cac39f7c",
   "metadata": {},
   "source": [
    "## Ctrl + Shift + /\n",
    "###### Comment/uncomment with block comment"
   ]
  },
  {
   "cell_type": "code",
   "execution_count": null,
   "id": "5a6218a760c3f2a2",
   "metadata": {},
   "outputs": [],
   "source": [
    "# x = 5\n",
    "# y = 1\n",
    "# print(\"x: \", x, \"y: \", y)"
   ]
  },
  {
   "cell_type": "markdown",
   "id": "e73bc07754cf0ca9",
   "metadata": {},
   "source": [
    "## Ctrl + W\n",
    "###### Select successively increasing code blocks"
   ]
  },
  {
   "cell_type": "code",
   "execution_count": null,
   "id": "a212a4aec6b11359",
   "metadata": {},
   "outputs": [],
   "source": [
    "x = \"Hello PyCharm!\"\n",
    "\n",
    "print(x)\n",
    "\n",
    "print(type(x))"
   ]
  },
  {
   "cell_type": "markdown",
   "id": "db5a8ffe37ed0cb4",
   "metadata": {},
   "source": [
    "## Ctrl + Shift + W\n",
    "###### Decrease current selection to previous state"
   ]
  },
  {
   "cell_type": "code",
   "execution_count": null,
   "id": "6c00f06f3b2ad8e8",
   "metadata": {},
   "outputs": [],
   "source": [
    "x = \"Hello PyCharm!\"\n",
    "\n",
    "print(x)\n",
    "\n",
    "print(type(x))"
   ]
  },
  {
   "cell_type": "markdown",
   "id": "f737f41a60002b96",
   "metadata": {},
   "source": [
    "## Alt + Enter\n",
    "###### Show intention actions and quick-fixes"
   ]
  },
  {
   "cell_type": "code",
   "execution_count": null,
   "id": "a34e987ab4db520e",
   "metadata": {},
   "outputs": [],
   "source": [
    "x = \".5, \"4\"\n",
    "print(x)"
   ]
  },
  {
   "cell_type": "markdown",
   "id": "93a3f7d4dd998c2e",
   "metadata": {},
   "source": [
    "## Ctrl + Alt + L   or   Ctrl + Alt + Shift + L\n",
    "###### Reformat code"
   ]
  },
  {
   "cell_type": "code",
   "execution_count": null,
   "id": "7f49a3d0382c99ae",
   "metadata": {},
   "outputs": [],
   "source": [
    "x=2\n",
    "print  (  type(x))"
   ]
  },
  {
   "cell_type": "markdown",
   "id": "98a8f631071e433c",
   "metadata": {},
   "source": [
    "## Ctrl + Alt + O  or Alt + Enter\n",
    "###### Optimize imports, Import this name"
   ]
  },
  {
   "cell_type": "code",
   "execution_count": null,
   "id": "f58828a986d2c26a",
   "metadata": {},
   "outputs": [],
   "source": [
    "\n",
    "x = numpy.random.random(100)"
   ]
  },
  {
   "cell_type": "markdown",
   "id": "34d7cf61b7affc86",
   "metadata": {},
   "source": [
    "## Ctrl + Alt + I\n",
    "##### Auto-indent line(s)"
   ]
  },
  {
   "cell_type": "code",
   "execution_count": null,
   "id": "71a1dbcde1fc6a7e",
   "metadata": {},
   "outputs": [],
   "source": [
    "def test_function():\n",
    "            print(\"Automatic indent for line1\")\n",
    "            print(\"Automatic indent for line2\")\n",
    "            print(\"Automatic indent for line3\")"
   ]
  },
  {
   "cell_type": "markdown",
   "id": "2b125aa4c92df0cc",
   "metadata": {},
   "source": [
    "## Tab / Shift + Tab\n",
    "##### Indent/unindent selected lines"
   ]
  },
  {
   "cell_type": "code",
   "execution_count": null,
   "id": "d46c63796df1c762",
   "metadata": {},
   "outputs": [],
   "source": [
    "def test_function():\n",
    "            print(\"Automatic indent for line1\")\n",
    "    print(\"Automatic indent for line2\")\n",
    "    print(\"Automatic indent for line3\")  "
   ]
  },
  {
   "cell_type": "markdown",
   "id": "20453d8b4730efd",
   "metadata": {},
   "source": [
    "## Ctrl + X or Shift + Delete\n",
    "##### Cut current line or selected block to clipboard"
   ]
  },
  {
   "cell_type": "code",
   "execution_count": null,
   "id": "cdb9cdde7c89924c",
   "metadata": {},
   "outputs": [],
   "source": [
    "def test_function():\n",
    " \n",
    "    print(\"Automatic indent for line2\")\n",
    "    \n",
    "               print(\"Automatic indent for line1\")\n",
    "    \n",
    "    print(\"Automatic indent for line3\")  "
   ]
  },
  {
   "cell_type": "markdown",
   "id": "7c72dc2a9cf3cc55",
   "metadata": {},
   "source": [
    "## Ctrl + C or Ctrl + Insert\n",
    "##### Copy current line or selected block to clipboard"
   ]
  },
  {
   "cell_type": "code",
   "execution_count": null,
   "id": "1a9779d24c2fc79e",
   "metadata": {},
   "outputs": [],
   "source": [
    "x = 5\n",
    "x = 5"
   ]
  },
  {
   "cell_type": "markdown",
   "id": "be2e52e96ad038b1",
   "metadata": {},
   "source": [
    "## Ctrl + V or Shift + Insert\n",
    "##### Paste from clipboard"
   ]
  },
  {
   "cell_type": "code",
   "execution_count": null,
   "id": "cb0b4d5cca2ad23c",
   "metadata": {},
   "outputs": [],
   "source": [
    "x = 5\n",
    "x = 5"
   ]
  },
  {
   "cell_type": "markdown",
   "id": "25037968cd2b3698",
   "metadata": {},
   "source": [
    "## Ctrl + V or Shift + Insert\n",
    "##### Paste from clipboard"
   ]
  },
  {
   "cell_type": "code",
   "execution_count": null,
   "id": "2e74d911b5b2b391",
   "metadata": {},
   "outputs": [],
   "source": [
    "x = 5"
   ]
  },
  {
   "cell_type": "markdown",
   "id": "c450a8c0d869b517",
   "metadata": {},
   "source": [
    "## Ctrl + Shift + V\n",
    "##### Paste from recent buffers..."
   ]
  },
  {
   "cell_type": "code",
   "execution_count": null,
   "id": "3ae446fed4585fa5",
   "metadata": {},
   "outputs": [],
   "source": [
    "x = 5"
   ]
  },
  {
   "cell_type": "markdown",
   "id": "84534fc37b114eee",
   "metadata": {},
   "source": [
    "## Ctrl + D \n",
    "##### Duplicate current line or selected block"
   ]
  },
  {
   "cell_type": "code",
   "execution_count": null,
   "id": "5563c90733886c3e",
   "metadata": {},
   "outputs": [],
   "source": [
    "x = 5\n",
    "x = 5\n",
    "x = 5\n",
    "x = 5"
   ]
  },
  {
   "cell_type": "markdown",
   "id": "68c3789fd57b7140",
   "metadata": {},
   "source": [
    "## Ctrl + Y \n",
    "##### Delete line at caret"
   ]
  },
  {
   "cell_type": "code",
   "execution_count": null,
   "id": "9b350ac48432d1a1",
   "metadata": {},
   "outputs": [],
   "source": [
    "x = 5\n",
    "y = 2\n",
    "x = 5"
   ]
  },
  {
   "cell_type": "markdown",
   "id": "fef15bd720827c4",
   "metadata": {},
   "source": [
    "## Ctrl + Shift + J\n",
    "##### Smart line join"
   ]
  },
  {
   "cell_type": "code",
   "execution_count": null,
   "id": "125cbc09c97888d5",
   "metadata": {},
   "outputs": [],
   "source": [
    "x = 5\n",
    "print(x)\n",
    "y = x + 4\n",
    "print(y)"
   ]
  },
  {
   "cell_type": "markdown",
   "id": "2d0d0a1f3e69d3b1",
   "metadata": {},
   "source": [
    "## Ctrl + Shift + NumPad+ \n",
    "##### Expand all"
   ]
  },
  {
   "cell_type": "code",
   "execution_count": null,
   "id": "1c99cf1d20a30a8f",
   "metadata": {},
   "outputs": [],
   "source": [
    "x = 5\n",
    "print(x)\n",
    "y = x + 4\n",
    "print(y)"
   ]
  },
  {
   "cell_type": "markdown",
   "id": "1f7aadd189d181d6",
   "metadata": {},
   "source": [
    "## Ctrl + Shift + NumPad- \n",
    "##### Collapse all"
   ]
  },
  {
   "cell_type": "code",
   "execution_count": null,
   "id": "2bf598f698fa2989",
   "metadata": {},
   "outputs": [],
   "source": [
    "x = 5\n",
    "print(x)\n",
    "y = x + 4\n",
    "print(y)"
   ]
  },
  {
   "cell_type": "markdown",
   "id": "4d2444cb489f22b5",
   "metadata": {},
   "source": [
    "## Ctrl + F4 \n",
    "##### Close active editor tab"
   ]
  },
  {
   "cell_type": "code",
   "execution_count": null,
   "id": "23936722c5df6ddb",
   "metadata": {},
   "outputs": [],
   "source": [
    "x = 5"
   ]
  },
  {
   "cell_type": "markdown",
   "id": "5a0cd74c4e36822e",
   "metadata": {},
   "source": []
  },
  {
   "cell_type": "markdown",
   "id": "d02abfbcd4123984",
   "metadata": {},
   "source": [
    "# Search and Replace"
   ]
  },
  {
   "cell_type": "markdown",
   "id": "6234347813a6fcac",
   "metadata": {},
   "source": [
    "## Ctrl + F\n",
    "##### Find"
   ]
  },
  {
   "cell_type": "code",
   "execution_count": null,
   "id": "da0da830f7c9398c",
   "metadata": {},
   "outputs": [],
   "source": [
    "x1 = 5"
   ]
  },
  {
   "cell_type": "markdown",
   "id": "65bc9e32989b853e",
   "metadata": {},
   "source": [
    "## F3\n",
    "##### Find next"
   ]
  },
  {
   "cell_type": "code",
   "execution_count": null,
   "id": "b23ee69a99dfbd3f",
   "metadata": {},
   "outputs": [],
   "source": [
    "x2 = 5\n",
    "x1 = 1\n",
    "x2 = 4\n",
    "x1 = 1"
   ]
  },
  {
   "cell_type": "markdown",
   "id": "dff883fba73ae97f",
   "metadata": {},
   "source": [
    "## Shift + F3\n",
    "##### Find previous"
   ]
  },
  {
   "cell_type": "code",
   "execution_count": null,
   "id": "1313142850a5f294",
   "metadata": {},
   "outputs": [],
   "source": [
    "x2 = 5\n",
    "x1 = 1\n",
    "x2 = 4\n",
    "x1 = 1"
   ]
  },
  {
   "cell_type": "markdown",
   "id": "52c021cba513b671",
   "metadata": {},
   "source": [
    "## Ctrl + R\n",
    "##### Replace"
   ]
  },
  {
   "cell_type": "code",
   "execution_count": null,
   "id": "76a23410724fc225",
   "metadata": {},
   "outputs": [],
   "source": [
    "x5 = 5\n",
    "x3 = 1\n",
    "x5 = 4\n",
    "x3 = 1"
   ]
  },
  {
   "cell_type": "markdown",
   "id": "7705fded26eb6a94",
   "metadata": {},
   "source": [
    "## Ctrl + Shift + F\n",
    "##### Find in path, projects, module, directory, scope"
   ]
  },
  {
   "cell_type": "code",
   "execution_count": null,
   "id": "e3a0b2570a71378",
   "metadata": {},
   "outputs": [],
   "source": [
    "path = \"/home/sysadmin/project\"\n",
    "x = 5"
   ]
  },
  {
   "cell_type": "markdown",
   "id": "cff50eabaf86546e",
   "metadata": {},
   "source": [
    "## Ctrl + Shift + R\n",
    "##### Replace in path, projects, module, directory, scope"
   ]
  },
  {
   "cell_type": "code",
   "execution_count": null,
   "id": "d23167238b61f8dc",
   "metadata": {},
   "outputs": [],
   "source": [
    "path = \"/home/sysadmin/project\"\n",
    "x = 5"
   ]
  },
  {
   "cell_type": "markdown",
   "id": "8a654cecbcae3e6",
   "metadata": {},
   "source": []
  },
  {
   "cell_type": "markdown",
   "id": "ce2012907060f76d",
   "metadata": {},
   "source": [
    "# Run and Compile"
   ]
  },
  {
   "cell_type": "markdown",
   "id": "de8620a1b8230fec",
   "metadata": {},
   "source": [
    "## Alt + Shift + F10\n",
    "##### Select configuration and run, files with extension .py"
   ]
  },
  {
   "cell_type": "code",
   "execution_count": null,
   "id": "a781f202c1271266",
   "metadata": {},
   "outputs": [],
   "source": [
    "x = 5\n",
    "print(x)"
   ]
  },
  {
   "cell_type": "markdown",
   "id": "aa9c43846ae5d6e1",
   "metadata": {},
   "source": [
    "## Alt + Shift + F9\n",
    "##### Select configuration and debug, files with extension .py"
   ]
  },
  {
   "cell_type": "code",
   "execution_count": null,
   "id": "70d21bed7438ab91",
   "metadata": {},
   "outputs": [],
   "source": [
    "x = 5\n",
    "print(x)"
   ]
  },
  {
   "cell_type": "markdown",
   "id": "394d9c78cb1a2c97",
   "metadata": {},
   "source": [
    "## Shift + F10\n",
    "##### Run, files with extension .py"
   ]
  },
  {
   "cell_type": "code",
   "execution_count": null,
   "id": "276e2a7222ad4c9a",
   "metadata": {},
   "outputs": [],
   "source": [
    "x = 5\n",
    "print(x)"
   ]
  },
  {
   "cell_type": "markdown",
   "id": "592ab8ecc882f301",
   "metadata": {},
   "source": [
    "## Shift + F9\n",
    "##### Debug, files with extension .py"
   ]
  },
  {
   "cell_type": "code",
   "execution_count": null,
   "id": "ae92f90e3b83d7ba",
   "metadata": {},
   "outputs": [],
   "source": [
    "x = 5\n",
    "print(x)"
   ]
  },
  {
   "cell_type": "markdown",
   "id": "3dadd402a8a79390",
   "metadata": {},
   "source": [
    "## Ctrl + Shift + F10\n",
    "##### Run context configuration from editor"
   ]
  },
  {
   "cell_type": "code",
   "execution_count": null,
   "id": "df5dc6bf88303c34",
   "metadata": {},
   "outputs": [],
   "source": [
    "x = 5\n",
    "print(x)"
   ]
  },
  {
   "cell_type": "markdown",
   "id": "e81189e7d68b518d",
   "metadata": {},
   "source": [
    "## Links:\n",
    "## [PyCharm Create and edit Jupyter notebooks](https://www.jetbrains.com/help/pycharm/editing-jupyter-notebook-files.html) \n",
    "## [Run and debug Jupyter notebook code cells](https://www.jetbrains.com/help/pycharm/running-jupyter-notebook-cells.html)\n",
    "## [Work with outputs](https://www.jetbrains.com/help/pycharm/working-with-cell-outputs.html)\n",
    "## [Manage Jupyter notebook](https://www.jetbrains.com/help/pycharm/configuring-jupyter-notebook.html) \n",
    "\n"
   ]
  }
 ],
 "metadata": {
  "kernelspec": {
   "display_name": "Python 3 (ipykernel)",
   "language": "python",
   "name": "python3"
  },
  "language_info": {
   "codemirror_mode": {
    "name": "ipython",
    "version": 3
   },
   "file_extension": ".py",
   "mimetype": "text/x-python",
   "name": "python",
   "nbconvert_exporter": "python",
   "pygments_lexer": "ipython3",
   "version": "3.10.12"
  }
 },
 "nbformat": 4,
 "nbformat_minor": 5
}
